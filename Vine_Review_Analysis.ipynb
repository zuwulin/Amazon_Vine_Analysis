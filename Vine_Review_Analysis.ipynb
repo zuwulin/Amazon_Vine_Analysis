{
  "nbformat": 4,
  "nbformat_minor": 0,
  "metadata": {
    "colab": {
      "name": "Vine_Review_Analysis.ipynb",
      "provenance": []
    },
    "kernelspec": {
      "name": "python3",
      "display_name": "Python 3"
    },
    "language_info": {
      "name": "python"
    }
  },
  "cells": [
    {
      "cell_type": "code",
      "execution_count": 1,
      "metadata": {
        "colab": {
          "base_uri": "https://localhost:8080/"
        },
        "id": "corc4hNho4S_",
        "outputId": "2e60f75f-c071-45ec-d690-01e47787e188"
      },
      "outputs": [
        {
          "output_type": "stream",
          "name": "stdout",
          "text": [
            "\r0% [Working]\r            \rGet:1 https://cloud.r-project.org/bin/linux/ubuntu bionic-cran40/ InRelease [3,626 B]\n",
            "\r0% [Connecting to archive.ubuntu.com] [Connecting to security.ubuntu.com] [1 In\r0% [Connecting to archive.ubuntu.com] [Connecting to security.ubuntu.com] [Conn\r                                                                               \rGet:2 https://developer.download.nvidia.com/compute/cuda/repos/ubuntu1804/x86_64  InRelease [1,581 B]\n",
            "\r0% [Connecting to archive.ubuntu.com (91.189.91.39)] [Connecting to security.ub\r0% [1 InRelease gpgv 3,626 B] [Connecting to archive.ubuntu.com (91.189.91.39)]\r                                                                               \rHit:3 http://archive.ubuntu.com/ubuntu bionic InRelease\n",
            "\r0% [1 InRelease gpgv 3,626 B] [Waiting for headers] [Connecting to security.ubu\r                                                                               \rIgn:4 https://developer.download.nvidia.com/compute/machine-learning/repos/ubuntu1804/x86_64  InRelease\n",
            "\r0% [1 InRelease gpgv 3,626 B] [Waiting for headers] [Connecting to security.ubu\r                                                                               \rHit:5 https://developer.download.nvidia.com/compute/machine-learning/repos/ubuntu1804/x86_64  Release\n",
            "Get:6 http://archive.ubuntu.com/ubuntu bionic-updates InRelease [88.7 kB]\n",
            "Get:7 http://security.ubuntu.com/ubuntu bionic-security InRelease [88.7 kB]\n",
            "Get:8 http://ppa.launchpad.net/c2d4u.team/c2d4u4.0+/ubuntu bionic InRelease [15.9 kB]\n",
            "Get:9 http://archive.ubuntu.com/ubuntu bionic-backports InRelease [74.6 kB]\n",
            "Hit:10 http://ppa.launchpad.net/cran/libgit2/ubuntu bionic InRelease\n",
            "Get:11 http://ppa.launchpad.net/deadsnakes/ppa/ubuntu bionic InRelease [15.9 kB]\n",
            "Get:12 https://developer.download.nvidia.com/compute/cuda/repos/ubuntu1804/x86_64  Packages [813 kB]\n",
            "Get:13 http://ppa.launchpad.net/graphics-drivers/ppa/ubuntu bionic InRelease [21.3 kB]\n",
            "Get:15 http://archive.ubuntu.com/ubuntu bionic-updates/restricted amd64 Packages [1,040 kB]\n",
            "Get:16 http://archive.ubuntu.com/ubuntu bionic-updates/universe amd64 Packages [2,297 kB]\n",
            "Get:17 http://archive.ubuntu.com/ubuntu bionic-updates/main amd64 Packages [3,293 kB]\n",
            "Get:18 http://archive.ubuntu.com/ubuntu bionic-updates/multiverse amd64 Packages [29.8 kB]\n",
            "Get:19 http://archive.ubuntu.com/ubuntu bionic-backports/main amd64 Packages [12.2 kB]\n",
            "Get:20 http://ppa.launchpad.net/c2d4u.team/c2d4u4.0+/ubuntu bionic/main Sources [2,022 kB]\n",
            "Get:21 http://security.ubuntu.com/ubuntu bionic-security/multiverse amd64 Packages [22.8 kB]\n",
            "Get:22 http://security.ubuntu.com/ubuntu bionic-security/universe amd64 Packages [1,521 kB]\n",
            "Get:23 http://security.ubuntu.com/ubuntu bionic-security/main amd64 Packages [2,861 kB]\n",
            "Get:24 http://ppa.launchpad.net/c2d4u.team/c2d4u4.0+/ubuntu bionic/main amd64 Packages [1,036 kB]\n",
            "Get:25 http://security.ubuntu.com/ubuntu bionic-security/restricted amd64 Packages [1,006 kB]\n",
            "Get:26 http://ppa.launchpad.net/deadsnakes/ppa/ubuntu bionic/main amd64 Packages [45.3 kB]\n",
            "Get:27 http://ppa.launchpad.net/graphics-drivers/ppa/ubuntu bionic/main amd64 Packages [47.7 kB]\n",
            "Fetched 16.4 MB in 7s (2,346 kB/s)\n",
            "Reading package lists... Done\n"
          ]
        }
      ],
      "source": [
        "import os\n",
        "# Find the latest version of spark 3.0  from http://www.apache.org/dist/spark/ and enter as the spark version\n",
        "# For example:\n",
        "# spark_version = 'spark-3.0.3'\n",
        "spark_version = 'spark-3.0.3'\n",
        "os.environ['SPARK_VERSION']=spark_version\n",
        "\n",
        "# Install Spark and Java\n",
        "!apt-get update\n",
        "!apt-get install openjdk-11-jdk-headless -qq > /dev/null\n",
        "!wget -q http://www.apache.org/dist/spark/$SPARK_VERSION/$SPARK_VERSION-bin-hadoop2.7.tgz\n",
        "!tar xf $SPARK_VERSION-bin-hadoop2.7.tgz\n",
        "!pip install -q findspark\n",
        "\n",
        "# Set Environment Variables\n",
        "import os\n",
        "os.environ[\"JAVA_HOME\"] = \"/usr/lib/jvm/java-11-openjdk-amd64\"\n",
        "os.environ[\"SPARK_HOME\"] = f\"/content/{spark_version}-bin-hadoop2.7\"\n",
        "\n",
        "# Start a SparkSession\n",
        "import findspark\n",
        "findspark.init()"
      ]
    },
    {
      "cell_type": "code",
      "source": [
        "# Start Spark session\n",
        "from pyspark.sql import SparkSession\n",
        "spark = SparkSession.builder.appName(\"DataFrameBasics\").getOrCreate()"
      ],
      "metadata": {
        "id": "VypvpbsbpPHz"
      },
      "execution_count": 2,
      "outputs": []
    },
    {
      "cell_type": "code",
      "source": [
        "from pyspark import SparkFiles\n",
        "url = \"https://s3.amazonaws.com/amazon-reviews-pds/tsv/amazon_reviews_us_Digital_Video_Games_v1_00.tsv.gz\"\n",
        "spark.sparkContext.addFile(url)\n",
        "df = spark.read.option(\"encoding\", \"UTF-8\").csv(SparkFiles.get(\"\"), sep=\"\\t\", header=True, inferSchema=True)\n",
        "df.show()"
      ],
      "metadata": {
        "colab": {
          "base_uri": "https://localhost:8080/"
        },
        "id": "HvHIhOmHpQWj",
        "outputId": "94c86e31-2515-4e88-c3ee-d18902ec521a"
      },
      "execution_count": 3,
      "outputs": [
        {
          "output_type": "stream",
          "name": "stdout",
          "text": [
            "+-----------+-----------+--------------+----------+--------------+--------------------+-------------------+-----------+-------------+-----------+----+-----------------+--------------------+--------------------+-----------+\n",
            "|marketplace|customer_id|     review_id|product_id|product_parent|       product_title|   product_category|star_rating|helpful_votes|total_votes|vine|verified_purchase|     review_headline|         review_body|review_date|\n",
            "+-----------+-----------+--------------+----------+--------------+--------------------+-------------------+-----------+-------------+-----------+----+-----------------+--------------------+--------------------+-----------+\n",
            "|         US|   21269168| RSH1OZ87OYK92|B013PURRZW|     603406193|Madden NFL 16 - X...|Digital_Video_Games|          2|            2|          3|   N|                N|A slight improvem...|I keep buying mad...| 2015-08-31|\n",
            "|         US|     133437|R1WFOQ3N9BO65I|B00F4CEHNK|     341969535| Xbox Live Gift Card|Digital_Video_Games|          5|            0|          0|   N|                Y|          Five Stars|             Awesome| 2015-08-31|\n",
            "|         US|   45765011| R3YOOS71KM5M9|B00DNHLFQA|     951665344|Command & Conquer...|Digital_Video_Games|          5|            0|          0|   N|                Y|Hail to the great...|If you are preppi...| 2015-08-31|\n",
            "|         US|     113118|R3R14UATT3OUFU|B004RMK5QG|     395682204|Playstation Plus ...|Digital_Video_Games|          5|            0|          0|   N|                Y|          Five Stars|             Perfect| 2015-08-31|\n",
            "|         US|   22151364| RV2W9SGDNQA2C|B00G9BNLQE|     640460561|Saints Row IV - E...|Digital_Video_Games|          5|            0|          0|   N|                Y|          Five Stars|            Awesome!| 2015-08-31|\n",
            "|         US|   22151364|R3CFKLIZ0I2KOB|B00IMIL498|     621922192|Double Dragon: Ne...|Digital_Video_Games|          5|            0|          0|   N|                Y|          Five Stars|            Awesome!| 2015-08-31|\n",
            "|         US|   38426028|R1LRYU1V0T3O38|B00S00IJH8|     215163395|              Sims 4|Digital_Video_Games|          4|            0|          0|   N|                Y|i like the new sk...|i like the new sk...| 2015-08-31|\n",
            "|         US|    6057518| R44QKV6FE5CJ2|B004RMK4BC|     384246568|Playstation Netwo...|Digital_Video_Games|          5|            0|          0|   N|                Y|          Five Stars|               Super| 2015-08-31|\n",
            "|         US|   20715661|R2TX1KLPXXXNYS|B00K59HKIQ|     384246568|Playstation Netwo...|Digital_Video_Games|          5|            0|          0|   N|                Y|         Easy & Fast|Excellent, fast a...| 2015-08-31|\n",
            "|         US|   26540306|R1JEEW4C6R89BA|B00K59HKIQ|     384246568|Playstation Netwo...|Digital_Video_Games|          5|            0|          0|   N|                Y|          Five Stars|                  Ok| 2015-08-31|\n",
            "|         US|    8926809|R3B3UHK1FO0ERS|B004774IPU|     151985175|Sid Meier's Civil...|Digital_Video_Games|          1|            0|          0|   N|                N|I am still playin...|As has been writt...| 2015-08-31|\n",
            "|         US|   31525534|R2GVSDHW513SS1|B002LIT9EC|     695277014|Build-a-lot 4: Po...|Digital_Video_Games|          5|            0|          0|   N|                Y|Probably the best...|Probably the best...| 2015-08-31|\n",
            "|         US|   22151364|R1R1NT516PYT73|B008ALUBYQ|     112160022|       Borderlands 2|Digital_Video_Games|          5|            0|          0|   N|                Y|          Five Stars|            Awesome!| 2015-08-31|\n",
            "|         US|   22977584|R3K624QDQKENN9|B010KYDNDG|     835376637|Minecraft for PC/...|Digital_Video_Games|          4|            0|          0|   N|                Y|                 FUN|COOL BUT IT LAGES...| 2015-08-31|\n",
            "|         US|   45765011| R1FOXH7PCJX3V|B008ALUBYQ|     112160022|       Borderlands 2|Digital_Video_Games|          1|            0|          2|   N|                Y|            One Star|Lames purchase I ...| 2015-08-31|\n",
            "|         US|    2239522| RA1246M1OMDWC|B004RMK4P8|     384246568|Playstation Netwo...|Digital_Video_Games|          5|            0|          0|   N|                Y|          Five Stars|               Great| 2015-08-31|\n",
            "|         US|   48805811|R2I9SXWB0PAEKQ|B004RMK5QG|     395682204|Playstation Plus ...|Digital_Video_Games|          5|            0|          0|   N|                Y|          Five Stars|          Awesome!!!| 2015-08-31|\n",
            "|         US|   18646481|R3UGL544NA0G9C|B00BI16Z22|     552981447|Brink of Consciou...|Digital_Video_Games|          4|            0|          0|   N|                Y|       worth playing|pretty good but n...| 2015-08-31|\n",
            "|         US|   10310935|R1CBA4Y92GVAVM|B004VSTQ2A|     232803743|Xbox Live Subscri...|Digital_Video_Games|          5|            0|          0|   N|                Y|          Five Stars|What can I say......| 2015-08-31|\n",
            "|         US|    5587610|R24NEKNR01VEHU|B00GAC1D2G|     384246568|Playstation Netwo...|Digital_Video_Games|          5|            0|          0|   N|                Y|        Just amazing|Very fast to rece...| 2015-08-31|\n",
            "+-----------+-----------+--------------+----------+--------------+--------------------+-------------------+-----------+-------------+-----------+----+-----------------+--------------------+--------------------+-----------+\n",
            "only showing top 20 rows\n",
            "\n"
          ]
        }
      ]
    },
    {
      "cell_type": "code",
      "source": [
        "vine_df = df.select([\"review_id\", \"star_rating\", \"helpful_votes\", \"total_votes\", \"vine\", \"verified_purchase\"])\n",
        "vine_df.show()"
      ],
      "metadata": {
        "colab": {
          "base_uri": "https://localhost:8080/"
        },
        "id": "lRniUkQVqbdN",
        "outputId": "a0982a9f-53e7-4acc-dac3-8ede80722ec3"
      },
      "execution_count": 5,
      "outputs": [
        {
          "output_type": "stream",
          "name": "stdout",
          "text": [
            "+--------------+-----------+-------------+-----------+----+-----------------+\n",
            "|     review_id|star_rating|helpful_votes|total_votes|vine|verified_purchase|\n",
            "+--------------+-----------+-------------+-----------+----+-----------------+\n",
            "| RSH1OZ87OYK92|          2|            2|          3|   N|                N|\n",
            "|R1WFOQ3N9BO65I|          5|            0|          0|   N|                Y|\n",
            "| R3YOOS71KM5M9|          5|            0|          0|   N|                Y|\n",
            "|R3R14UATT3OUFU|          5|            0|          0|   N|                Y|\n",
            "| RV2W9SGDNQA2C|          5|            0|          0|   N|                Y|\n",
            "|R3CFKLIZ0I2KOB|          5|            0|          0|   N|                Y|\n",
            "|R1LRYU1V0T3O38|          4|            0|          0|   N|                Y|\n",
            "| R44QKV6FE5CJ2|          5|            0|          0|   N|                Y|\n",
            "|R2TX1KLPXXXNYS|          5|            0|          0|   N|                Y|\n",
            "|R1JEEW4C6R89BA|          5|            0|          0|   N|                Y|\n",
            "|R3B3UHK1FO0ERS|          1|            0|          0|   N|                N|\n",
            "|R2GVSDHW513SS1|          5|            0|          0|   N|                Y|\n",
            "|R1R1NT516PYT73|          5|            0|          0|   N|                Y|\n",
            "|R3K624QDQKENN9|          4|            0|          0|   N|                Y|\n",
            "| R1FOXH7PCJX3V|          1|            0|          2|   N|                Y|\n",
            "| RA1246M1OMDWC|          5|            0|          0|   N|                Y|\n",
            "|R2I9SXWB0PAEKQ|          5|            0|          0|   N|                Y|\n",
            "|R3UGL544NA0G9C|          4|            0|          0|   N|                Y|\n",
            "|R1CBA4Y92GVAVM|          5|            0|          0|   N|                Y|\n",
            "|R24NEKNR01VEHU|          5|            0|          0|   N|                Y|\n",
            "+--------------+-----------+-------------+-----------+----+-----------------+\n",
            "only showing top 20 rows\n",
            "\n"
          ]
        }
      ]
    },
    {
      "cell_type": "code",
      "source": [
        "vine_df = vine_df.filter(df.total_votes >= 20)\n",
        "vine_df.show()"
      ],
      "metadata": {
        "colab": {
          "base_uri": "https://localhost:8080/"
        },
        "id": "Pdyh_tuXpqwz",
        "outputId": "d7ccf57d-e0ae-49be-8057-d29e7992779c"
      },
      "execution_count": 6,
      "outputs": [
        {
          "output_type": "stream",
          "name": "stdout",
          "text": [
            "+--------------+-----------+-------------+-----------+----+-----------------+\n",
            "|     review_id|star_rating|helpful_votes|total_votes|vine|verified_purchase|\n",
            "+--------------+-----------+-------------+-----------+----+-----------------+\n",
            "| RV4UH0OWW97K4|          5|           19|         22|   N|                N|\n",
            "| RG6GT6G9WNYT1|          5|           22|         22|   N|                N|\n",
            "| RFBXE3Q3GYQYO|          5|           68|         70|   N|                Y|\n",
            "|R17V95WYC9ZXDD|          1|            0|         20|   N|                Y|\n",
            "|R235HEIYY15NZX|          1|            0|         26|   N|                Y|\n",
            "|R3BZ4DHX2YHC4V|          1|            1|         32|   N|                Y|\n",
            "| RZSC8Q4630BV1|          1|            1|         26|   N|                N|\n",
            "|R34S64NPUZOS90|          5|           23|         24|   N|                N|\n",
            "|R35O3GV3HZUX8B|          5|           58|         63|   N|                N|\n",
            "|R2AZAMZCEUOKQT|          1|           29|         40|   N|                Y|\n",
            "|R103RUVEH5YWQ4|          1|           69|         90|   N|                Y|\n",
            "|R2QNPQLXMCXOH3|          5|           35|         37|   N|                Y|\n",
            "|R3IXRKTYAKSP3I|          1|            2|         36|   N|                N|\n",
            "|R2XR1JSAVZ4G8E|          1|            6|         23|   N|                Y|\n",
            "| R93USRL9TCC0A|          1|            7|         22|   N|                Y|\n",
            "|R3F8QIC548OKSB|          1|            4|         41|   N|                N|\n",
            "| RJHVI076CU1PK|          1|            5|         74|   N|                N|\n",
            "|R2841JSGJYEO5X|          1|            1|         28|   N|                N|\n",
            "|R2YK81PG05KMN8|          1|            4|         33|   N|                Y|\n",
            "|R1RHI2XSCV52AI|          1|            4|         61|   N|                Y|\n",
            "+--------------+-----------+-------------+-----------+----+-----------------+\n",
            "only showing top 20 rows\n",
            "\n"
          ]
        }
      ]
    },
    {
      "cell_type": "code",
      "source": [
        "vine_percent_df = vine_df.filter((vine_df.helpful_votes/vine_df.total_votes) >= 0.5)\n",
        "vine_percent_df.show()"
      ],
      "metadata": {
        "colab": {
          "base_uri": "https://localhost:8080/"
        },
        "id": "gP4QoJdLqBmK",
        "outputId": "227f6330-9569-49ff-aec2-a1a7880fc4ec"
      },
      "execution_count": 8,
      "outputs": [
        {
          "output_type": "stream",
          "name": "stdout",
          "text": [
            "+--------------+-----------+-------------+-----------+----+-----------------+\n",
            "|     review_id|star_rating|helpful_votes|total_votes|vine|verified_purchase|\n",
            "+--------------+-----------+-------------+-----------+----+-----------------+\n",
            "| RV4UH0OWW97K4|          5|           19|         22|   N|                N|\n",
            "| RG6GT6G9WNYT1|          5|           22|         22|   N|                N|\n",
            "| RFBXE3Q3GYQYO|          5|           68|         70|   N|                Y|\n",
            "|R34S64NPUZOS90|          5|           23|         24|   N|                N|\n",
            "|R35O3GV3HZUX8B|          5|           58|         63|   N|                N|\n",
            "|R2AZAMZCEUOKQT|          1|           29|         40|   N|                Y|\n",
            "|R103RUVEH5YWQ4|          1|           69|         90|   N|                Y|\n",
            "|R2QNPQLXMCXOH3|          5|           35|         37|   N|                Y|\n",
            "| R1JENRRBQ1YMY|          5|           35|         36|   N|                N|\n",
            "|R2NS0HPQ2DD5XU|          1|           35|         45|   N|                N|\n",
            "| RIRX9H2QJFD1P|          5|           49|         53|   N|                Y|\n",
            "|R39R2LEKGIEUFS|          5|           69|         77|   N|                Y|\n",
            "|R2NCX85FTSTWHC|          5|           65|         68|   N|                N|\n",
            "|R1IN7ZA9ZCZEVM|          5|           17|         25|   N|                Y|\n",
            "|R253TQ098JL914|          2|           22|         23|   N|                Y|\n",
            "|R3OPTDO4EDS6LN|          5|           30|         30|   N|                Y|\n",
            "|R1FGHHDQ4P21C0|          1|           30|         33|   N|                N|\n",
            "|R3FQ1CSDIOWWRY|          1|           71|         80|   N|                N|\n",
            "|R3NJE21NUCII5L|          5|          135|        144|   N|                Y|\n",
            "| RRXJ8H18EFNFZ|          4|           26|         32|   N|                Y|\n",
            "+--------------+-----------+-------------+-----------+----+-----------------+\n",
            "only showing top 20 rows\n",
            "\n"
          ]
        }
      ]
    },
    {
      "cell_type": "code",
      "source": [
        "vine_paid = vine_percent_df.filter(vine_percent_df.vine == 'Y')\n",
        "vine_paid.show()"
      ],
      "metadata": {
        "colab": {
          "base_uri": "https://localhost:8080/"
        },
        "id": "LdkWi3kkrS4N",
        "outputId": "793f4514-bf6e-40e2-88a1-c3cb561d4e32"
      },
      "execution_count": 10,
      "outputs": [
        {
          "output_type": "stream",
          "name": "stdout",
          "text": [
            "+---------+-----------+-------------+-----------+----+-----------------+\n",
            "|review_id|star_rating|helpful_votes|total_votes|vine|verified_purchase|\n",
            "+---------+-----------+-------------+-----------+----+-----------------+\n",
            "+---------+-----------+-------------+-----------+----+-----------------+\n",
            "\n"
          ]
        }
      ]
    },
    {
      "cell_type": "code",
      "source": [
        "vine_unpaid = vine_percent_df.filter(vine_percent_df.vine == 'N')\n",
        "vine_unpaid.show()"
      ],
      "metadata": {
        "colab": {
          "base_uri": "https://localhost:8080/"
        },
        "id": "ydsMWv_JrqMG",
        "outputId": "be6e2da7-cac3-46bb-c316-8b96d5818ed4"
      },
      "execution_count": 11,
      "outputs": [
        {
          "output_type": "stream",
          "name": "stdout",
          "text": [
            "+--------------+-----------+-------------+-----------+----+-----------------+\n",
            "|     review_id|star_rating|helpful_votes|total_votes|vine|verified_purchase|\n",
            "+--------------+-----------+-------------+-----------+----+-----------------+\n",
            "| RV4UH0OWW97K4|          5|           19|         22|   N|                N|\n",
            "| RG6GT6G9WNYT1|          5|           22|         22|   N|                N|\n",
            "| RFBXE3Q3GYQYO|          5|           68|         70|   N|                Y|\n",
            "|R34S64NPUZOS90|          5|           23|         24|   N|                N|\n",
            "|R35O3GV3HZUX8B|          5|           58|         63|   N|                N|\n",
            "|R2AZAMZCEUOKQT|          1|           29|         40|   N|                Y|\n",
            "|R103RUVEH5YWQ4|          1|           69|         90|   N|                Y|\n",
            "|R2QNPQLXMCXOH3|          5|           35|         37|   N|                Y|\n",
            "| R1JENRRBQ1YMY|          5|           35|         36|   N|                N|\n",
            "|R2NS0HPQ2DD5XU|          1|           35|         45|   N|                N|\n",
            "| RIRX9H2QJFD1P|          5|           49|         53|   N|                Y|\n",
            "|R39R2LEKGIEUFS|          5|           69|         77|   N|                Y|\n",
            "|R2NCX85FTSTWHC|          5|           65|         68|   N|                N|\n",
            "|R1IN7ZA9ZCZEVM|          5|           17|         25|   N|                Y|\n",
            "|R253TQ098JL914|          2|           22|         23|   N|                Y|\n",
            "|R3OPTDO4EDS6LN|          5|           30|         30|   N|                Y|\n",
            "|R1FGHHDQ4P21C0|          1|           30|         33|   N|                N|\n",
            "|R3FQ1CSDIOWWRY|          1|           71|         80|   N|                N|\n",
            "|R3NJE21NUCII5L|          5|          135|        144|   N|                Y|\n",
            "| RRXJ8H18EFNFZ|          4|           26|         32|   N|                Y|\n",
            "+--------------+-----------+-------------+-----------+----+-----------------+\n",
            "only showing top 20 rows\n",
            "\n"
          ]
        }
      ]
    },
    {
      "cell_type": "code",
      "source": [
        "paid_total_reviews = vine_paid.count()\n",
        "paid_total_reviews"
      ],
      "metadata": {
        "colab": {
          "base_uri": "https://localhost:8080/"
        },
        "id": "NYEpYW4Br03d",
        "outputId": "1af248b2-4447-4a2f-def9-9880a8922fc6"
      },
      "execution_count": 12,
      "outputs": [
        {
          "output_type": "execute_result",
          "data": {
            "text/plain": [
              "0"
            ]
          },
          "metadata": {},
          "execution_count": 12
        }
      ]
    },
    {
      "cell_type": "code",
      "source": [
        "paid_five_star = vine_paid.filter(vine_paid.star_rating == 5).count()\n",
        "paid_five_star"
      ],
      "metadata": {
        "colab": {
          "base_uri": "https://localhost:8080/"
        },
        "id": "WOp-_84msXxA",
        "outputId": "c653f936-d93a-4539-f45e-88088b8adaaa"
      },
      "execution_count": 14,
      "outputs": [
        {
          "output_type": "execute_result",
          "data": {
            "text/plain": [
              "0"
            ]
          },
          "metadata": {},
          "execution_count": 14
        }
      ]
    },
    {
      "cell_type": "code",
      "source": [
        "paid_five_star_percent = (paid_five_star / paid_total_reviews) * 100\n",
        "paid_five_star_percent\n",
        "\n",
        "#gives an error, but naturally it's still a zero."
      ],
      "metadata": {
        "colab": {
          "base_uri": "https://localhost:8080/",
          "height": 183
        },
        "id": "_UUSHaOUsiNg",
        "outputId": "3a0fd037-ad8d-4f55-8772-1ebe759f299b"
      },
      "execution_count": 15,
      "outputs": [
        {
          "output_type": "error",
          "ename": "ZeroDivisionError",
          "evalue": "ignored",
          "traceback": [
            "\u001b[0;31m---------------------------------------------------------------------------\u001b[0m",
            "\u001b[0;31mZeroDivisionError\u001b[0m                         Traceback (most recent call last)",
            "\u001b[0;32m<ipython-input-15-86829e355b7b>\u001b[0m in \u001b[0;36m<module>\u001b[0;34m()\u001b[0m\n\u001b[0;32m----> 1\u001b[0;31m \u001b[0mpaid_five_star_percent\u001b[0m \u001b[0;34m=\u001b[0m \u001b[0;34m(\u001b[0m\u001b[0mpaid_five_star\u001b[0m \u001b[0;34m/\u001b[0m \u001b[0mpaid_total_reviews\u001b[0m\u001b[0;34m)\u001b[0m \u001b[0;34m*\u001b[0m \u001b[0;36m100\u001b[0m\u001b[0;34m\u001b[0m\u001b[0;34m\u001b[0m\u001b[0m\n\u001b[0m\u001b[1;32m      2\u001b[0m \u001b[0mpaid_five_star_percent\u001b[0m\u001b[0;34m\u001b[0m\u001b[0;34m\u001b[0m\u001b[0m\n",
            "\u001b[0;31mZeroDivisionError\u001b[0m: division by zero"
          ]
        }
      ]
    },
    {
      "cell_type": "code",
      "source": [
        "unpaid_total_reviews = vine_unpaid.count()\n",
        "unpaid_total_reviews"
      ],
      "metadata": {
        "colab": {
          "base_uri": "https://localhost:8080/"
        },
        "id": "norJxp4ws1WP",
        "outputId": "fbe2a7a2-f5c1-4888-adea-89aebb003f74"
      },
      "execution_count": 16,
      "outputs": [
        {
          "output_type": "execute_result",
          "data": {
            "text/plain": [
              "1685"
            ]
          },
          "metadata": {},
          "execution_count": 16
        }
      ]
    },
    {
      "cell_type": "code",
      "source": [
        "unpaid_five_star = vine_unpaid.filter(vine_unpaid.star_rating == 5).count()\n",
        "unpaid_five_star"
      ],
      "metadata": {
        "colab": {
          "base_uri": "https://localhost:8080/"
        },
        "id": "maKNiJrIs7XS",
        "outputId": "b4dd259c-d277-4865-b702-6b58087a4a97"
      },
      "execution_count": 17,
      "outputs": [
        {
          "output_type": "execute_result",
          "data": {
            "text/plain": [
              "631"
            ]
          },
          "metadata": {},
          "execution_count": 17
        }
      ]
    },
    {
      "cell_type": "code",
      "source": [
        "unpaid_five_star_percent = (unpaid_five_star / unpaid_total_reviews) * 100\n",
        "unpaid_five_star_percent"
      ],
      "metadata": {
        "colab": {
          "base_uri": "https://localhost:8080/"
        },
        "id": "kXoebxWCtEFD",
        "outputId": "c47e540e-f3d6-44b3-fd0f-51524998acc3"
      },
      "execution_count": 19,
      "outputs": [
        {
          "output_type": "execute_result",
          "data": {
            "text/plain": [
              "37.448071216617215"
            ]
          },
          "metadata": {},
          "execution_count": 19
        }
      ]
    },
    {
      "cell_type": "code",
      "source": [
        ""
      ],
      "metadata": {
        "id": "bhtZbIL1tJR0"
      },
      "execution_count": null,
      "outputs": []
    }
  ]
}